{
  "nbformat": 4,
  "nbformat_minor": 0,
  "metadata": {
    "colab": {
      "name": "Final_Project.ipynb",
      "provenance": [],
      "collapsed_sections": []
    },
    "kernelspec": {
      "name": "python3",
      "display_name": "Python 3"
    }
  },
  "cells": [
    {
      "cell_type": "markdown",
      "metadata": {
        "id": "H_D2Jfhf6vsi"
      },
      "source": [
        "# Company Management System"
      ]
    },
    {
      "cell_type": "code",
      "metadata": {
        "id": "1xkLKp7P6WGp"
      },
      "source": [
        "class Employees():\r\n",
        "  def __init__(self, name, age, spokenlanguage):\r\n",
        "    self.name = name\r\n",
        "    self.age = age\r\n",
        "    self.spokenlanguage = spokenlanguage\r\n",
        "\r\n",
        "  def display_name(self):\r\n",
        "    print(self.name)\r\n",
        "\r\n",
        "  def display_age(self):\r\n",
        "    print(self.age)\r\n",
        "  \r\n",
        "  def display_spokenlanguage(self):\r\n",
        "    print(self.spokenlanguage)\r\n",
        "\r\n",
        "  def display_info(self):\r\n",
        "    print('Employee', self.name, 'speaks:')\r\n",
        "    for x in self.spokenlanguage:\r\n",
        "      print(x)  \r\n"
      ],
      "execution_count": 1,
      "outputs": []
    },
    {
      "cell_type": "code",
      "metadata": {
        "id": "-vrwgoS6D80E"
      },
      "source": [
        "class Managers(Employees):\r\n",
        "  def display_info(self):\r\n",
        "    print('Manager', self.name, 'speaks: ')\r\n",
        "    for x in self.spokenlanguage:\r\n",
        "      print(x)"
      ],
      "execution_count": 2,
      "outputs": []
    },
    {
      "cell_type": "code",
      "metadata": {
        "colab": {
          "base_uri": "https://localhost:8080/"
        },
        "id": "SFWCWkkhF_SS",
        "outputId": "7a621399-70fb-4eb0-ae67-020643472686"
      },
      "source": [
        "employ1 = Employees('Albert', 19, {'English', 'French'})\r\n",
        "employ1.display_name()\r\n",
        "employ1.display_age()\r\n",
        "employ1.display_spokenlanguage()\r\n",
        "employ1.display_info()\r\n"
      ],
      "execution_count": 3,
      "outputs": [
        {
          "output_type": "stream",
          "text": [
            "Albert\n",
            "19\n",
            "{'French', 'English'}\n",
            "Employee Albert speaks:\n",
            "French\n",
            "English\n"
          ],
          "name": "stdout"
        }
      ]
    },
    {
      "cell_type": "code",
      "metadata": {
        "colab": {
          "base_uri": "https://localhost:8080/"
        },
        "id": "ChV7YBSuGREk",
        "outputId": "d32a0913-97a1-4d37-a5e4-3c194c5480ba"
      },
      "source": [
        "employ2 = Employees('Betty', 18, {'English'})\r\n",
        "employ2.display_name()\r\n",
        "employ2.display_age()\r\n",
        "employ2.display_spokenlanguage()\r\n",
        "employ2.display_info()"
      ],
      "execution_count": 4,
      "outputs": [
        {
          "output_type": "stream",
          "text": [
            "Betty\n",
            "18\n",
            "{'English'}\n",
            "Employee Betty speaks:\n",
            "English\n"
          ],
          "name": "stdout"
        }
      ]
    },
    {
      "cell_type": "code",
      "metadata": {
        "colab": {
          "base_uri": "https://localhost:8080/"
        },
        "id": "rm1tRiqSGig2",
        "outputId": "0195378f-58ba-4f3a-ee0e-cc4220d3d4f1"
      },
      "source": [
        "manager = Managers('Ellie', 17, {'English','Dutch'})\r\n",
        "manager.display_name()\r\n",
        "manager.display_age()\r\n",
        "manager.display_spokenlanguage()\r\n",
        "manager.display_info()"
      ],
      "execution_count": 5,
      "outputs": [
        {
          "output_type": "stream",
          "text": [
            "Ellie\n",
            "17\n",
            "{'Dutch', 'English'}\n",
            "Manager Ellie speaks: \n",
            "Dutch\n",
            "English\n"
          ],
          "name": "stdout"
        }
      ]
    },
    {
      "cell_type": "code",
      "metadata": {
        "id": "Mf4l4mY3ayvZ"
      },
      "source": [
        "companyemployees = {'manager': manager, 'employ1': employ1, 'employ2': employ2}"
      ],
      "execution_count": 6,
      "outputs": []
    },
    {
      "cell_type": "code",
      "metadata": {
        "colab": {
          "base_uri": "https://localhost:8080/"
        },
        "id": "-8ly4FVabcgU",
        "outputId": "c8a3ee76-481a-4a8d-eef1-e9d9e6fe8df4"
      },
      "source": [
        "for val in companyemployees.values():\r\n",
        "  val.display_info()\r\n",
        "  print()"
      ],
      "execution_count": 7,
      "outputs": [
        {
          "output_type": "stream",
          "text": [
            "Manager Ellie speaks: \n",
            "Dutch\n",
            "English\n",
            "\n",
            "Employee Albert speaks:\n",
            "French\n",
            "English\n",
            "\n",
            "Employee Betty speaks:\n",
            "English\n",
            "\n"
          ],
          "name": "stdout"
        }
      ]
    }
  ]
}