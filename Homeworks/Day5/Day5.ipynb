{
  "nbformat": 4,
  "nbformat_minor": 0,
  "metadata": {
    "colab": {
      "name": "Day5.ipynb",
      "provenance": [],
      "collapsed_sections": []
    },
    "kernelspec": {
      "name": "python3",
      "display_name": "Python 3"
    }
  },
  "cells": [
    {
      "cell_type": "code",
      "metadata": {
        "id": "o5KFvv4_HxzX"
      },
      "source": [
        "class Animal():\r\n",
        "  def __init__(self, breed, age, sound):\r\n",
        "    self.breed = breed\r\n",
        "    self.age = age\r\n",
        "    self.sound = sound\r\n",
        "\r\n",
        "  def eat(self):\r\n",
        "    pass\r\n",
        "  \r\n",
        "  def walk(self):\r\n",
        "    pass\r\n",
        "\r\n",
        "  def makessound(self):\r\n",
        "    print(self.sound)\r\n",
        "\r\n",
        "  def details(self):\r\n",
        "    print('It is', self.breed, 'breed and it is', self.age, 'years old.')\r\n"
      ],
      "execution_count": 1,
      "outputs": []
    },
    {
      "cell_type": "code",
      "metadata": {
        "id": "EwJF-y5jgJeS"
      },
      "source": [
        "class Dogs(Animal):\r\n",
        "  def eat(self):\r\n",
        "    print('The dog is eating.')\r\n",
        "  \r\n",
        "  def walk(self):\r\n",
        "    print('The dog is walking.')\r\n",
        "\r\n",
        "  def makessound(self):\r\n",
        "    print('The dog is', self.sound)\r\n"
      ],
      "execution_count": 2,
      "outputs": []
    },
    {
      "cell_type": "code",
      "metadata": {
        "colab": {
          "base_uri": "https://localhost:8080/"
        },
        "id": "6t77PyORgrTF",
        "outputId": "4bdfc213-c68f-4dbc-d311-ace3790b4236"
      },
      "source": [
        "dog = Dogs('Pomeranian', 2, 'barking' )\r\n",
        "dog.eat()\r\n",
        "dog.walk()\r\n",
        "dog.makessound()\r\n",
        "dog.details()"
      ],
      "execution_count": 3,
      "outputs": [
        {
          "output_type": "stream",
          "text": [
            "The dog is eating.\n",
            "The dog is walking.\n",
            "The dog is barking\n",
            "It is Pomeranian breed and it is 2 years old.\n"
          ],
          "name": "stdout"
        }
      ]
    },
    {
      "cell_type": "code",
      "metadata": {
        "id": "kdUhHW-1h5sF"
      },
      "source": [
        "class Cats(Animal):\r\n",
        "  def eat(self):\r\n",
        "    print('The cat is eating.')\r\n",
        "  \r\n",
        "  def walk(self):\r\n",
        "    print('The cat is walking.')\r\n",
        "\r\n",
        "  def makessound(self):\r\n",
        "    print('The cat ', self.sound)\r\n"
      ],
      "execution_count": 4,
      "outputs": []
    },
    {
      "cell_type": "code",
      "metadata": {
        "colab": {
          "base_uri": "https://localhost:8080/"
        },
        "id": "-uhaZNX1iBSI",
        "outputId": "6a87e17c-4246-4bc3-d935-574b08ed867f"
      },
      "source": [
        "cat = Cats('Persian', 2, 'meows' )\r\n",
        "cat.eat()\r\n",
        "cat.walk()\r\n",
        "cat.makessound()\r\n",
        "cat.details()"
      ],
      "execution_count": 5,
      "outputs": [
        {
          "output_type": "stream",
          "text": [
            "The cat is eating.\n",
            "The cat is walking.\n",
            "The cat  meows\n",
            "It is Persian breed and it is 2 years old.\n"
          ],
          "name": "stdout"
        }
      ]
    }
  ]
}