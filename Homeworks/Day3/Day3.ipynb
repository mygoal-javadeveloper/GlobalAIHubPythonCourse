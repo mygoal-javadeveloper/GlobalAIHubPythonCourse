{
  "nbformat": 4,
  "nbformat_minor": 0,
  "metadata": {
    "colab": {
      "name": "Day3.ipynb",
      "provenance": [],
      "collapsed_sections": []
    },
    "kernelspec": {
      "name": "python3",
      "display_name": "Python 3"
    }
  },
  "cells": [
    {
      "cell_type": "markdown",
      "metadata": {
        "id": "5-Xxpdy3j-qv"
      },
      "source": [
        "# User Login Application"
      ]
    },
    {
      "cell_type": "code",
      "metadata": {
        "id": "8oCj0MdXhDun"
      },
      "source": [
        "username = 'Ellie'\r\n",
        "password = 'programmer123'"
      ],
      "execution_count": 1,
      "outputs": []
    },
    {
      "cell_type": "code",
      "metadata": {
        "colab": {
          "base_uri": "https://localhost:8080/"
        },
        "id": "Jwr6wFi4q9wD",
        "outputId": "c09f5374-7976-4d21-8e39-3c279d779768"
      },
      "source": [
        "input_username = input('Please enter the username: \\n')"
      ],
      "execution_count": 2,
      "outputs": [
        {
          "output_type": "stream",
          "text": [
            "Please enter the username: \n",
            "xyz\n"
          ],
          "name": "stdout"
        }
      ]
    },
    {
      "cell_type": "code",
      "metadata": {
        "colab": {
          "base_uri": "https://localhost:8080/"
        },
        "id": "KzkSk435ht0x",
        "outputId": "9c3de2cd-113b-4d25-8473-2366a86e54e0"
      },
      "source": [
        "input_password = input('Please enter the password: \\n')"
      ],
      "execution_count": 3,
      "outputs": [
        {
          "output_type": "stream",
          "text": [
            "Please enter the password: \n",
            "abc\n"
          ],
          "name": "stdout"
        }
      ]
    },
    {
      "cell_type": "code",
      "metadata": {
        "colab": {
          "base_uri": "https://localhost:8080/"
        },
        "id": "0wn_1K3si8Tl",
        "outputId": "6dd27404-8203-46fc-f03a-8c58532059f0"
      },
      "source": [
        "while (input_username != username or input_password != password):\r\n",
        "  print('The username and/or password is wrong. Please try again.')\r\n",
        "  input_username = input('Please enter the username: \\n')\r\n",
        "  input_password = input('Please enter the password: \\n')\r\n",
        "else: \r\n",
        "  print('You are successfully logged in.')"
      ],
      "execution_count": 4,
      "outputs": [
        {
          "output_type": "stream",
          "text": [
            "The username and/or password is wrong. Please try again.\n",
            "Please enter the username: \n",
            "Ellie\n",
            "Please enter the password: \n",
            "abc\n",
            "The username and/or password is wrong. Please try again.\n",
            "Please enter the username: \n",
            "xyz\n",
            "Please enter the password: \n",
            "programmer123\n",
            "The username and/or password is wrong. Please try again.\n",
            "Please enter the username: \n",
            "Ellie\n",
            "Please enter the password: \n",
            "programmer123\n",
            "You are successfully logged in.\n"
          ],
          "name": "stdout"
        }
      ]
    },
    {
      "cell_type": "markdown",
      "metadata": {
        "id": "BrkTs864kHF8"
      },
      "source": [
        "# Extra\r\n",
        "# with a dictionary"
      ]
    },
    {
      "cell_type": "code",
      "metadata": {
        "colab": {
          "base_uri": "https://localhost:8080/"
        },
        "id": "QL5O8sdkjgpT",
        "outputId": "a8f50ad3-3629-4a07-922a-e04cb18bd233"
      },
      "source": [
        "username_password = {'Ellie' : 'programmer123', 'Victoria': 'ArtificialIntelligence123', 'Betty' : 'Dl123', 'Dennis': 'Ml123'}\r\n",
        "username_password"
      ],
      "execution_count": 5,
      "outputs": [
        {
          "output_type": "execute_result",
          "data": {
            "text/plain": [
              "{'Betty': 'Dl123',\n",
              " 'Dennis': 'Ml123',\n",
              " 'Ellie': 'programmer123',\n",
              " 'Victoria': 'ArtificialIntelligence123'}"
            ]
          },
          "metadata": {
            "tags": []
          },
          "execution_count": 5
        }
      ]
    },
    {
      "cell_type": "code",
      "metadata": {
        "colab": {
          "base_uri": "https://localhost:8080/"
        },
        "id": "6ucl_OcnlWSz",
        "outputId": "d1a357a2-33c8-415d-c160-bb2607b38948"
      },
      "source": [
        "input_username = input('Please enter the username: \\n')"
      ],
      "execution_count": 6,
      "outputs": [
        {
          "output_type": "stream",
          "text": [
            "Please enter the username: \n",
            "abc\n"
          ],
          "name": "stdout"
        }
      ]
    },
    {
      "cell_type": "code",
      "metadata": {
        "colab": {
          "base_uri": "https://localhost:8080/"
        },
        "id": "DHDBO7Gbl6U6",
        "outputId": "3bdae00e-b59e-4622-d954-c0ecb457d637"
      },
      "source": [
        "input_password = input('Please enter the password: \\n')"
      ],
      "execution_count": 7,
      "outputs": [
        {
          "output_type": "stream",
          "text": [
            "Please enter the password: \n",
            "xyz\n"
          ],
          "name": "stdout"
        }
      ]
    },
    {
      "cell_type": "code",
      "metadata": {
        "colab": {
          "base_uri": "https://localhost:8080/"
        },
        "id": "wz1_NhDvnzLA",
        "outputId": "9ae56af1-d701-4e16-a78b-b16be6ca7127"
      },
      "source": [
        "while True:\r\n",
        "  if input_username in username_password:\r\n",
        "    if input_password == username_password[input_username]:\r\n",
        "      print('You are successfully logged in.')\r\n",
        "      break\r\n",
        "    else:\r\n",
        "      print('The username and/or password is wrong. Please try again.')\r\n",
        "      input_username = input('Please enter the username: \\n')\r\n",
        "      input_password = input('Please enter the password: \\n')\r\n",
        "  else:\r\n",
        "    print('The username and/or password is wrong. Please try again.')\r\n",
        "    input_username = input('Please enter the username: \\n')\r\n",
        "    input_password = input('Please enter the password: \\n')"
      ],
      "execution_count": 8,
      "outputs": [
        {
          "output_type": "stream",
          "text": [
            "The username and/or password is wrong. Please try again.\n",
            "Please enter the username: \n",
            "Victoria\n",
            "Please enter the password: \n",
            "abc\n",
            "The username and/or password is wrong. Please try again.\n",
            "Please enter the username: \n",
            "xyz\n",
            "Please enter the password: \n",
            "ArtificialIntelligence123\n",
            "The username and/or password is wrong. Please try again.\n",
            "Please enter the username: \n",
            "Victoria\n",
            "Please enter the password: \n",
            "ArtificialIntelligence123\n",
            "You are successfully logged in.\n"
          ],
          "name": "stdout"
        }
      ]
    }
  ]
}