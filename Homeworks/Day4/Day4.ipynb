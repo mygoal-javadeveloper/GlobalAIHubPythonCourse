{
  "nbformat": 4,
  "nbformat_minor": 0,
  "metadata": {
    "colab": {
      "name": "Day4.ipynb",
      "provenance": [],
      "collapsed_sections": []
    },
    "kernelspec": {
      "name": "python3",
      "display_name": "Python 3"
    }
  },
  "cells": [
    {
      "cell_type": "code",
      "metadata": {
        "id": "fi7C5DF_62_R"
      },
      "source": [
        "def findprimenumbers(startnum, endnum):\r\n",
        "  primenumber = []\r\n",
        "  for x in range(startnum,endnum+1):\r\n",
        "    if x > 1:\r\n",
        "      for y in range(2, x):\r\n",
        "        if x % y == 0:\r\n",
        "          break\r\n",
        "      else:\r\n",
        "        primenumber.append(x)\r\n",
        "  return primenumber"
      ],
      "execution_count": 1,
      "outputs": []
    },
    {
      "cell_type": "code",
      "metadata": {
        "colab": {
          "base_uri": "https://localhost:8080/"
        },
        "id": "txcDtozP73lj",
        "outputId": "d30f3e60-6526-4b50-e3da-979615454e2d"
      },
      "source": [
        "findprimenumbers(0, 100)"
      ],
      "execution_count": 2,
      "outputs": [
        {
          "output_type": "execute_result",
          "data": {
            "text/plain": [
              "[2,\n",
              " 3,\n",
              " 5,\n",
              " 7,\n",
              " 11,\n",
              " 13,\n",
              " 17,\n",
              " 19,\n",
              " 23,\n",
              " 29,\n",
              " 31,\n",
              " 37,\n",
              " 41,\n",
              " 43,\n",
              " 47,\n",
              " 53,\n",
              " 59,\n",
              " 61,\n",
              " 67,\n",
              " 71,\n",
              " 73,\n",
              " 79,\n",
              " 83,\n",
              " 89,\n",
              " 97]"
            ]
          },
          "metadata": {
            "tags": []
          },
          "execution_count": 2
        }
      ]
    }
  ]
}