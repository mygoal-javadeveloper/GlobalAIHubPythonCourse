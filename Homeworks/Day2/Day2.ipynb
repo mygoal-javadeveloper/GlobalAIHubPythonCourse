{
  "nbformat": 4,
  "nbformat_minor": 0,
  "metadata": {
    "colab": {
      "name": "Day2.ipynb",
      "provenance": []
    },
    "kernelspec": {
      "name": "python3",
      "display_name": "Python 3"
    }
  },
  "cells": [
    {
      "cell_type": "markdown",
      "metadata": {
        "id": "WktC0y14L5Oc"
      },
      "source": [
        "# 1  "
      ]
    },
    {
      "cell_type": "code",
      "metadata": {
        "colab": {
          "base_uri": "https://localhost:8080/"
        },
        "id": "5PsePpVOKBOZ",
        "outputId": "09f22b5b-10ce-4abe-f69c-bcc698e46b3b"
      },
      "source": [
        "mylst = list(range(20))\r\n",
        "mylst"
      ],
      "execution_count": 1,
      "outputs": [
        {
          "output_type": "execute_result",
          "data": {
            "text/plain": [
              "[0, 1, 2, 3, 4, 5, 6, 7, 8, 9, 10, 11, 12, 13, 14, 15, 16, 17, 18, 19]"
            ]
          },
          "metadata": {
            "tags": []
          },
          "execution_count": 1
        }
      ]
    },
    {
      "cell_type": "code",
      "metadata": {
        "colab": {
          "base_uri": "https://localhost:8080/"
        },
        "id": "fTEY95vPKVUo",
        "outputId": "571eefb9-ec25-4992-fcc6-656f20c51a03"
      },
      "source": [
        "lastidx = len(mylst)-1\r\n",
        "for x in range(len(mylst)//2):\r\n",
        "  mylst[x], mylst[lastidx] = mylst[lastidx], mylst[x]\r\n",
        "  lastidx -= 1\r\n",
        "\r\n",
        "mylst"
      ],
      "execution_count": 2,
      "outputs": [
        {
          "output_type": "execute_result",
          "data": {
            "text/plain": [
              "[19, 18, 17, 16, 15, 14, 13, 12, 11, 10, 9, 8, 7, 6, 5, 4, 3, 2, 1, 0]"
            ]
          },
          "metadata": {
            "tags": []
          },
          "execution_count": 2
        }
      ]
    },
    {
      "cell_type": "markdown",
      "metadata": {
        "id": "Y5I9Y01OLvx7"
      },
      "source": [
        "# 2"
      ]
    },
    {
      "cell_type": "code",
      "metadata": {
        "colab": {
          "base_uri": "https://localhost:8080/"
        },
        "id": "887MFpBbLC8I",
        "outputId": "fecce5bc-5407-44a3-9e1b-2abeb6da41f6"
      },
      "source": [
        "n = int(input('Enter single digit integer: \\n'))"
      ],
      "execution_count": 3,
      "outputs": [
        {
          "output_type": "stream",
          "text": [
            "Enter single digit integer: \n",
            "9\n"
          ],
          "name": "stdout"
        }
      ]
    },
    {
      "cell_type": "code",
      "metadata": {
        "colab": {
          "base_uri": "https://localhost:8080/"
        },
        "id": "wyOyr9DKLtUs",
        "outputId": "4a33a4d2-3795-4a0f-d3dc-917c2f9e66d1"
      },
      "source": [
        "print('All even numbers from 0 to', n)\r\n",
        "for num in range(n+1):\r\n",
        "  if num % 2 == 0:\r\n",
        "    print(num, end = ' ')"
      ],
      "execution_count": 4,
      "outputs": [
        {
          "output_type": "stream",
          "text": [
            "All even numbers from 0 to 9\n",
            "0 2 4 6 8 "
          ],
          "name": "stdout"
        }
      ]
    }
  ]
}