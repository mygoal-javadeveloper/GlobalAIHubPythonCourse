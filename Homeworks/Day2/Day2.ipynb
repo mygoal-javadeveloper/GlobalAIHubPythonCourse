{
  "nbformat": 4,
  "nbformat_minor": 0,
  "metadata": {
    "colab": {
      "name": "Day2.ipynb",
      "provenance": [],
      "collapsed_sections": []
    },
    "kernelspec": {
      "name": "python3",
      "display_name": "Python 3"
    }
  },
  "cells": [
    {
      "cell_type": "markdown",
      "metadata": {
        "id": "WktC0y14L5Oc"
      },
      "source": [
        "# 1  "
      ]
    },
    {
      "cell_type": "code",
      "metadata": {
        "id": "Zxk98-3OxpGW"
      },
      "source": [
        "def swap(mylst):\r\n",
        "  mididx = len(mylst) // 2\r\n",
        "  mididx\r\n",
        "  if len(mylst)%2==1:\r\n",
        "    temp = mylst[0:mididx]\r\n",
        "    mylst[0:mididx] = mylst[mididx+1:]\r\n",
        "    mylst[mididx+1:] = temp\r\n",
        "  else:\r\n",
        "    temp = mylst[0:mididx]\r\n",
        "    mylst[0:mididx+1] = mylst[mididx:]\r\n",
        "    mylst[mididx:] = temp "
      ],
      "execution_count": 1,
      "outputs": []
    },
    {
      "cell_type": "code",
      "metadata": {
        "colab": {
          "base_uri": "https://localhost:8080/"
        },
        "id": "xuX5-cxYyYYF",
        "outputId": "ccb2cf58-5d32-4a3b-fd27-9094e549ef88"
      },
      "source": [
        "mylst = list(range(23))\r\n",
        "swap(mylst)\r\n",
        "mylst"
      ],
      "execution_count": 2,
      "outputs": [
        {
          "output_type": "execute_result",
          "data": {
            "text/plain": [
              "[12,\n",
              " 13,\n",
              " 14,\n",
              " 15,\n",
              " 16,\n",
              " 17,\n",
              " 18,\n",
              " 19,\n",
              " 20,\n",
              " 21,\n",
              " 22,\n",
              " 11,\n",
              " 0,\n",
              " 1,\n",
              " 2,\n",
              " 3,\n",
              " 4,\n",
              " 5,\n",
              " 6,\n",
              " 7,\n",
              " 8,\n",
              " 9,\n",
              " 10]"
            ]
          },
          "metadata": {
            "tags": []
          },
          "execution_count": 2
        }
      ]
    },
    {
      "cell_type": "code",
      "metadata": {
        "colab": {
          "base_uri": "https://localhost:8080/"
        },
        "id": "98lLPAZOGq91",
        "outputId": "8b322519-6bca-4255-82ea-83a70450651d"
      },
      "source": [
        "mylst = list(range(21))\r\n",
        "swap(mylst)\r\n",
        "mylst"
      ],
      "execution_count": 3,
      "outputs": [
        {
          "output_type": "execute_result",
          "data": {
            "text/plain": [
              "[11, 12, 13, 14, 15, 16, 17, 18, 19, 20, 10, 0, 1, 2, 3, 4, 5, 6, 7, 8, 9]"
            ]
          },
          "metadata": {
            "tags": []
          },
          "execution_count": 3
        }
      ]
    },
    {
      "cell_type": "code",
      "metadata": {
        "colab": {
          "base_uri": "https://localhost:8080/"
        },
        "id": "lWadu3xsO0Rv",
        "outputId": "6a25cce7-721d-40c7-ee80-8ab718e96f3a"
      },
      "source": [
        "mylst = list(range(20))\r\n",
        "swap(mylst)\r\n",
        "mylst"
      ],
      "execution_count": 4,
      "outputs": [
        {
          "output_type": "execute_result",
          "data": {
            "text/plain": [
              "[10, 11, 12, 13, 14, 15, 16, 17, 18, 19, 0, 1, 2, 3, 4, 5, 6, 7, 8, 9]"
            ]
          },
          "metadata": {
            "tags": []
          },
          "execution_count": 4
        }
      ]
    },
    {
      "cell_type": "code",
      "metadata": {
        "colab": {
          "base_uri": "https://localhost:8080/"
        },
        "id": "VEuKyQKtO55O",
        "outputId": "d17fe08a-c619-45af-90f2-74b100e84fc9"
      },
      "source": [
        "mylst = list(range(30))\r\n",
        "swap(mylst)\r\n",
        "mylst"
      ],
      "execution_count": 5,
      "outputs": [
        {
          "output_type": "execute_result",
          "data": {
            "text/plain": [
              "[15,\n",
              " 16,\n",
              " 17,\n",
              " 18,\n",
              " 19,\n",
              " 20,\n",
              " 21,\n",
              " 22,\n",
              " 23,\n",
              " 24,\n",
              " 25,\n",
              " 26,\n",
              " 27,\n",
              " 28,\n",
              " 29,\n",
              " 0,\n",
              " 1,\n",
              " 2,\n",
              " 3,\n",
              " 4,\n",
              " 5,\n",
              " 6,\n",
              " 7,\n",
              " 8,\n",
              " 9,\n",
              " 10,\n",
              " 11,\n",
              " 12,\n",
              " 13,\n",
              " 14]"
            ]
          },
          "metadata": {
            "tags": []
          },
          "execution_count": 5
        }
      ]
    },
    {
      "cell_type": "code",
      "metadata": {
        "id": "fTEY95vPKVUo"
      },
      "source": [
        "# mylst = list(range(20))\r\n",
        "# lastidx = len(mylst)-1\r\n",
        "# for x in range(len(mylst)//2):\r\n",
        "#   mylst[x], mylst[lastidx] = mylst[lastidx], mylst[x]\r\n",
        "#   lastidx -= 1\r\n",
        "\r\n",
        "# mylst"
      ],
      "execution_count": 6,
      "outputs": []
    },
    {
      "cell_type": "markdown",
      "metadata": {
        "id": "Y5I9Y01OLvx7"
      },
      "source": [
        "# 2"
      ]
    },
    {
      "cell_type": "code",
      "metadata": {
        "id": "wyOyr9DKLtUs"
      },
      "source": [
        "def evennumber(num):\r\n",
        "  print('All even numbers from 0 to', num)\r\n",
        "  evennum = [x for x in range(num+1) if x % 2 == 0]\r\n",
        "  return evennum"
      ],
      "execution_count": 7,
      "outputs": []
    },
    {
      "cell_type": "code",
      "metadata": {
        "colab": {
          "base_uri": "https://localhost:8080/"
        },
        "id": "0SO3GP05lBaU",
        "outputId": "019bdfc6-11b2-4179-fc96-639ac0fe102e"
      },
      "source": [
        "n = int(input('Enter single digit integer: \\n'))"
      ],
      "execution_count": 8,
      "outputs": [
        {
          "output_type": "stream",
          "text": [
            "Enter single digit integer: \n",
            "20\n"
          ],
          "name": "stdout"
        }
      ]
    },
    {
      "cell_type": "code",
      "metadata": {
        "colab": {
          "base_uri": "https://localhost:8080/"
        },
        "id": "R2_Yb6hOmSdU",
        "outputId": "b27668ad-e789-40d6-d531-df679081405b"
      },
      "source": [
        "print(evennumber(n))"
      ],
      "execution_count": 9,
      "outputs": [
        {
          "output_type": "stream",
          "text": [
            "All even numbers from 0 to 20\n",
            "[0, 2, 4, 6, 8, 10, 12, 14, 16, 18, 20]\n"
          ],
          "name": "stdout"
        }
      ]
    },
    {
      "cell_type": "code",
      "metadata": {
        "colab": {
          "base_uri": "https://localhost:8080/"
        },
        "id": "jP8ToAG0mRSt",
        "outputId": "35bc1822-732f-4804-ffc4-25d9bb214736"
      },
      "source": [
        "n = int(input('Enter single digit integer: \\n'))"
      ],
      "execution_count": 10,
      "outputs": [
        {
          "output_type": "stream",
          "text": [
            "Enter single digit integer: \n",
            "21\n"
          ],
          "name": "stdout"
        }
      ]
    },
    {
      "cell_type": "code",
      "metadata": {
        "colab": {
          "base_uri": "https://localhost:8080/"
        },
        "id": "Z5Hf9XNkmS7Y",
        "outputId": "87427211-ab14-4156-84a9-969a34c05f62"
      },
      "source": [
        "print(evennumber(n))"
      ],
      "execution_count": 11,
      "outputs": [
        {
          "output_type": "stream",
          "text": [
            "All even numbers from 0 to 21\n",
            "[0, 2, 4, 6, 8, 10, 12, 14, 16, 18, 20]\n"
          ],
          "name": "stdout"
        }
      ]
    }
  ]
}