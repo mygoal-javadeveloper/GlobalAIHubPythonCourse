{
  "nbformat": 4,
  "nbformat_minor": 0,
  "metadata": {
    "colab": {
      "name": "Day2.ipynb",
      "provenance": [],
      "collapsed_sections": []
    },
    "kernelspec": {
      "name": "python3",
      "display_name": "Python 3"
    }
  },
  "cells": [
    {
      "cell_type": "markdown",
      "metadata": {
        "id": "WktC0y14L5Oc"
      },
      "source": [
        "# 1  "
      ]
    },
    {
      "cell_type": "code",
      "metadata": {
        "id": "Zxk98-3OxpGW"
      },
      "source": [
        "def swap(mylst):\r\n",
        "  mididx = len(mylst) // 2\r\n",
        "  mididx\r\n",
        "  if len(mylst)%2==1:\r\n",
        "    temp = mylst[0:mididx]\r\n",
        "    mylst[0:mididx] = mylst[mididx+1:]\r\n",
        "    mylst[mididx+1:] = temp\r\n",
        "  else:\r\n",
        "    temp = mylst[0:mididx]\r\n",
        "    mylst[0:mididx+1] = mylst[mididx:]\r\n",
        "    mylst[mididx:] = temp "
      ],
      "execution_count": 1,
      "outputs": []
    },
    {
      "cell_type": "code",
      "metadata": {
        "colab": {
          "base_uri": "https://localhost:8080/"
        },
        "id": "xuX5-cxYyYYF",
        "outputId": "f0987dab-7cc7-4c97-85c1-47fd8c1d65ea"
      },
      "source": [
        "mylst = list(range(23))\r\n",
        "swap(mylst)\r\n",
        "mylst"
      ],
      "execution_count": 2,
      "outputs": [
        {
          "output_type": "execute_result",
          "data": {
            "text/plain": [
              "[12,\n",
              " 13,\n",
              " 14,\n",
              " 15,\n",
              " 16,\n",
              " 17,\n",
              " 18,\n",
              " 19,\n",
              " 20,\n",
              " 21,\n",
              " 22,\n",
              " 11,\n",
              " 0,\n",
              " 1,\n",
              " 2,\n",
              " 3,\n",
              " 4,\n",
              " 5,\n",
              " 6,\n",
              " 7,\n",
              " 8,\n",
              " 9,\n",
              " 10]"
            ]
          },
          "metadata": {
            "tags": []
          },
          "execution_count": 2
        }
      ]
    },
    {
      "cell_type": "code",
      "metadata": {
        "colab": {
          "base_uri": "https://localhost:8080/"
        },
        "id": "98lLPAZOGq91",
        "outputId": "03b600a6-28a1-40f9-a5c2-02ade180bcad"
      },
      "source": [
        "mylst = list(range(21))\r\n",
        "swap(mylst)\r\n",
        "mylst"
      ],
      "execution_count": 3,
      "outputs": [
        {
          "output_type": "execute_result",
          "data": {
            "text/plain": [
              "[11, 12, 13, 14, 15, 16, 17, 18, 19, 20, 10, 0, 1, 2, 3, 4, 5, 6, 7, 8, 9]"
            ]
          },
          "metadata": {
            "tags": []
          },
          "execution_count": 3
        }
      ]
    },
    {
      "cell_type": "code",
      "metadata": {
        "colab": {
          "base_uri": "https://localhost:8080/"
        },
        "id": "lWadu3xsO0Rv",
        "outputId": "1cfd44de-5295-4b84-e998-9a012fdab3ea"
      },
      "source": [
        "mylst = list(range(20))\r\n",
        "swap(mylst)\r\n",
        "mylst"
      ],
      "execution_count": 4,
      "outputs": [
        {
          "output_type": "execute_result",
          "data": {
            "text/plain": [
              "[10, 11, 12, 13, 14, 15, 16, 17, 18, 19, 0, 1, 2, 3, 4, 5, 6, 7, 8, 9]"
            ]
          },
          "metadata": {
            "tags": []
          },
          "execution_count": 4
        }
      ]
    },
    {
      "cell_type": "code",
      "metadata": {
        "colab": {
          "base_uri": "https://localhost:8080/"
        },
        "id": "VEuKyQKtO55O",
        "outputId": "bbf20c7a-14f4-4fc6-b2cd-0502df02cb84"
      },
      "source": [
        "mylst = list(range(30))\r\n",
        "swap(mylst)\r\n",
        "mylst"
      ],
      "execution_count": 5,
      "outputs": [
        {
          "output_type": "execute_result",
          "data": {
            "text/plain": [
              "[15,\n",
              " 16,\n",
              " 17,\n",
              " 18,\n",
              " 19,\n",
              " 20,\n",
              " 21,\n",
              " 22,\n",
              " 23,\n",
              " 24,\n",
              " 25,\n",
              " 26,\n",
              " 27,\n",
              " 28,\n",
              " 29,\n",
              " 0,\n",
              " 1,\n",
              " 2,\n",
              " 3,\n",
              " 4,\n",
              " 5,\n",
              " 6,\n",
              " 7,\n",
              " 8,\n",
              " 9,\n",
              " 10,\n",
              " 11,\n",
              " 12,\n",
              " 13,\n",
              " 14]"
            ]
          },
          "metadata": {
            "tags": []
          },
          "execution_count": 5
        }
      ]
    },
    {
      "cell_type": "code",
      "metadata": {
        "id": "fTEY95vPKVUo"
      },
      "source": [
        "# mylst = list(range(20))\r\n",
        "# lastidx = len(mylst)-1\r\n",
        "# for x in range(len(mylst)//2):\r\n",
        "#   mylst[x], mylst[lastidx] = mylst[lastidx], mylst[x]\r\n",
        "#   lastidx -= 1\r\n",
        "\r\n",
        "# mylst"
      ],
      "execution_count": 6,
      "outputs": []
    },
    {
      "cell_type": "markdown",
      "metadata": {
        "id": "Y5I9Y01OLvx7"
      },
      "source": [
        "# 2"
      ]
    },
    {
      "cell_type": "code",
      "metadata": {
        "id": "wyOyr9DKLtUs"
      },
      "source": [
        "def evennumber(num):\r\n",
        "  if 0<= num <= 9:\r\n",
        "    print('All even numbers from 0 to', num)\r\n",
        "    evennum = [x for x in range(num+1) if x % 2 == 0]\r\n",
        "  else:\r\n",
        "    raise Exception('Please enter single digit from 0 to 9 only.')\r\n",
        "  return evennum"
      ],
      "execution_count": 7,
      "outputs": []
    },
    {
      "cell_type": "code",
      "metadata": {
        "colab": {
          "base_uri": "https://localhost:8080/"
        },
        "id": "0SO3GP05lBaU",
        "outputId": "1ed3e88d-b001-4953-8335-8b586c9a3056"
      },
      "source": [
        "n = int(input('Enter single digit integer: \\n'))"
      ],
      "execution_count": 8,
      "outputs": [
        {
          "output_type": "stream",
          "text": [
            "Enter single digit integer: \n",
            "21\n"
          ],
          "name": "stdout"
        }
      ]
    },
    {
      "cell_type": "code",
      "metadata": {
        "colab": {
          "base_uri": "https://localhost:8080/",
          "height": 265
        },
        "id": "R2_Yb6hOmSdU",
        "outputId": "6b1a7d97-0e6c-41d7-a4e6-e49bd5a12c02"
      },
      "source": [
        "print(evennumber(n))"
      ],
      "execution_count": 9,
      "outputs": [
        {
          "output_type": "error",
          "ename": "Exception",
          "evalue": "ignored",
          "traceback": [
            "\u001b[0;31m---------------------------------------------------------------------------\u001b[0m",
            "\u001b[0;31mException\u001b[0m                                 Traceback (most recent call last)",
            "\u001b[0;32m<ipython-input-9-d4ccc92fbdc1>\u001b[0m in \u001b[0;36m<module>\u001b[0;34m()\u001b[0m\n\u001b[0;32m----> 1\u001b[0;31m \u001b[0mprint\u001b[0m\u001b[0;34m(\u001b[0m\u001b[0mevennumber\u001b[0m\u001b[0;34m(\u001b[0m\u001b[0mn\u001b[0m\u001b[0;34m)\u001b[0m\u001b[0;34m)\u001b[0m\u001b[0;34m\u001b[0m\u001b[0;34m\u001b[0m\u001b[0m\n\u001b[0m",
            "\u001b[0;32m<ipython-input-7-802c7a3e37f9>\u001b[0m in \u001b[0;36mevennumber\u001b[0;34m(num)\u001b[0m\n\u001b[1;32m      4\u001b[0m     \u001b[0mevennum\u001b[0m \u001b[0;34m=\u001b[0m \u001b[0;34m[\u001b[0m\u001b[0mx\u001b[0m \u001b[0;32mfor\u001b[0m \u001b[0mx\u001b[0m \u001b[0;32min\u001b[0m \u001b[0mrange\u001b[0m\u001b[0;34m(\u001b[0m\u001b[0mnum\u001b[0m\u001b[0;34m+\u001b[0m\u001b[0;36m1\u001b[0m\u001b[0;34m)\u001b[0m \u001b[0;32mif\u001b[0m \u001b[0mx\u001b[0m \u001b[0;34m%\u001b[0m \u001b[0;36m2\u001b[0m \u001b[0;34m==\u001b[0m \u001b[0;36m0\u001b[0m\u001b[0;34m]\u001b[0m\u001b[0;34m\u001b[0m\u001b[0;34m\u001b[0m\u001b[0m\n\u001b[1;32m      5\u001b[0m   \u001b[0;32melse\u001b[0m\u001b[0;34m:\u001b[0m\u001b[0;34m\u001b[0m\u001b[0;34m\u001b[0m\u001b[0m\n\u001b[0;32m----> 6\u001b[0;31m     \u001b[0;32mraise\u001b[0m \u001b[0mException\u001b[0m\u001b[0;34m(\u001b[0m\u001b[0;34m'Please enter single digit from 0 to 9 only.'\u001b[0m\u001b[0;34m)\u001b[0m\u001b[0;34m\u001b[0m\u001b[0;34m\u001b[0m\u001b[0m\n\u001b[0m\u001b[1;32m      7\u001b[0m   \u001b[0;32mreturn\u001b[0m \u001b[0mevennum\u001b[0m\u001b[0;34m\u001b[0m\u001b[0;34m\u001b[0m\u001b[0m\n",
            "\u001b[0;31mException\u001b[0m: Please enter single digit from 0 to 9 only."
          ]
        }
      ]
    },
    {
      "cell_type": "code",
      "metadata": {
        "colab": {
          "base_uri": "https://localhost:8080/"
        },
        "id": "jP8ToAG0mRSt",
        "outputId": "71f49666-6489-4b6c-c92d-0e9583ef3f09"
      },
      "source": [
        "n = int(input('Enter single digit integer: \\n'))"
      ],
      "execution_count": 10,
      "outputs": [
        {
          "output_type": "stream",
          "text": [
            "Enter single digit integer: \n",
            "0\n"
          ],
          "name": "stdout"
        }
      ]
    },
    {
      "cell_type": "code",
      "metadata": {
        "colab": {
          "base_uri": "https://localhost:8080/"
        },
        "id": "Z5Hf9XNkmS7Y",
        "outputId": "47046925-7226-4030-90b8-dfdbc278df45"
      },
      "source": [
        "print(evennumber(n))"
      ],
      "execution_count": 11,
      "outputs": [
        {
          "output_type": "stream",
          "text": [
            "All even numbers from 0 to 0\n",
            "[0]\n"
          ],
          "name": "stdout"
        }
      ]
    },
    {
      "cell_type": "code",
      "metadata": {
        "colab": {
          "base_uri": "https://localhost:8080/"
        },
        "id": "wYm15fUyaTAe",
        "outputId": "20826b3e-ca92-4a39-d11d-ff9754651355"
      },
      "source": [
        "n = int(input('Enter single digit integer: \\n'))"
      ],
      "execution_count": 12,
      "outputs": [
        {
          "output_type": "stream",
          "text": [
            "Enter single digit integer: \n",
            "9\n"
          ],
          "name": "stdout"
        }
      ]
    },
    {
      "cell_type": "code",
      "metadata": {
        "colab": {
          "base_uri": "https://localhost:8080/"
        },
        "id": "uO3uvcX9aYsE",
        "outputId": "202916d1-3cf7-410b-f9f4-dd5101e432b1"
      },
      "source": [
        "print(evennumber(n))"
      ],
      "execution_count": 13,
      "outputs": [
        {
          "output_type": "stream",
          "text": [
            "All even numbers from 0 to 9\n",
            "[0, 2, 4, 6, 8]\n"
          ],
          "name": "stdout"
        }
      ]
    },
    {
      "cell_type": "code",
      "metadata": {
        "colab": {
          "base_uri": "https://localhost:8080/"
        },
        "id": "4r0NvqC3abJH",
        "outputId": "c07822e7-7335-4122-8327-099f60c4b467"
      },
      "source": [
        "n = int(input('Enter single digit integer: \\n'))"
      ],
      "execution_count": 14,
      "outputs": [
        {
          "output_type": "stream",
          "text": [
            "Enter single digit integer: \n",
            "5\n"
          ],
          "name": "stdout"
        }
      ]
    },
    {
      "cell_type": "code",
      "metadata": {
        "colab": {
          "base_uri": "https://localhost:8080/"
        },
        "id": "oHsGCSBAaaIO",
        "outputId": "2fa431b1-e940-4ed1-8275-742b0e5da5ee"
      },
      "source": [
        "print(evennumber(n))"
      ],
      "execution_count": 15,
      "outputs": [
        {
          "output_type": "stream",
          "text": [
            "All even numbers from 0 to 5\n",
            "[0, 2, 4]\n"
          ],
          "name": "stdout"
        }
      ]
    }
  ]
}